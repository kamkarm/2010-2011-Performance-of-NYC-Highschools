{
 "cells": [
  {
   "cell_type": "markdown",
   "metadata": {},
   "source": [
    "# 2010-2011 Performance of NYC High schools\n",
    "\n",
    "This project I will extract, transform, and load three datasets into a local database.\n",
    "\n",
    "Using Pandas, the datasets are extracted, cleaned, then loaded into three tables in the database. Then using sqlite, the tables are merged into one table, extracting unique attribues from each table. I then query the best schools from the table.\n",
    "\n",
    "Datasets provide data on the performance of NYC High schools during the 2010-2011 school year and can be found at:\n",
    "https://data.cityofnewyork.us/Education/2010-2011-School-Progress-Reports-All-Schools/yig9-9zum <br>\n",
    "https://data.cityofnewyork.us/Education/2010-AP-College-Board-School-Level-Results/itfs-ms3e <br>\n",
    "https://data.cityofnewyork.us/Education/2010-SAT-College-Board-School-Level-Results/zt9s-n5aj <br>"
   ]
  },
  {
   "cell_type": "code",
   "execution_count": 1,
   "metadata": {},
   "outputs": [],
   "source": [
    "import pandas as pd\n",
    "import numpy as np\n",
    "import sqlite3"
   ]
  },
  {
   "cell_type": "code",
   "execution_count": 2,
   "metadata": {},
   "outputs": [],
   "source": [
    "#Load the three datasets into a Pandas dataframe\n",
    "df1 = pd.read_csv('2010_2011_School_Progress_Reports_All_Schools.csv')\n",
    "df2 = pd.read_csv('2010_AP_College_Board_School_Level_Results.csv')\n",
    "df3 = pd.read_csv('2010_SAT_College_Board_School_Level_Results.csv')"
   ]
  },
  {
   "cell_type": "code",
   "execution_count": 3,
   "metadata": {},
   "outputs": [
    {
     "name": "stdout",
     "output_type": "stream",
     "text": [
      "      DBN  DISTRICT                          SCHOOL              PRINCIPAL  \\\n",
      "0  01M015         1       P.S. 015 Roberto Clemente          Irene Sanchez   \n",
      "1  01M019         1             P.S. 019 Asher Levy    Jacqueline Flanagan   \n",
      "2  01M020         1            P.S. 020 Anna Silver              James Lee   \n",
      "3  01M034         1  P.S. 034 Franklin D. Roosevelt  Joyce Stallings Harte   \n",
      "4  01M063         1       P.S. 063 William McKinley     Darlene Despeignes   \n",
      "\n",
      "  PROGRESS REPORT TYPE SCHOOL LEVEL*  PEER INDEX* 2010-2011 OVERALL GRADE  \\\n",
      "0                  EMS    Elementary        63.61                      C    \n",
      "1                  EMS    Elementary        49.48                      B    \n",
      "2                  EMS    Elementary        56.65                      B    \n",
      "3                  EMS           K-8        67.97                      C    \n",
      "4                  EMS    Elementary        58.85                      B    \n",
      "\n",
      "   2010-2011 OVERALL SCORE  2010-2011 ENVIRONMENT CATEGORY SCORE  \\\n",
      "0                     27.0                                   6.4   \n",
      "1                     48.7                                   7.8   \n",
      "2                     48.2                                   7.7   \n",
      "3                     39.8                                   7.5   \n",
      "4                     49.0                                   8.1   \n",
      "\n",
      "  2010-2011 ENVIRONMENT GRADE  2010-2011 PERFORMANCE CATEGORY SCORE  \\\n",
      "0                          B                                    2.1   \n",
      "1                          B                                    5.2   \n",
      "2                          B                                    7.4   \n",
      "3                          B                                   11.3   \n",
      "4                          B                                   10.4   \n",
      "\n",
      "  2010-2011 PERFORMANCE GRADE  2010-2011 PROGRESS CATEGORY SCORE  \\\n",
      "0                          D                                18.0   \n",
      "1                          D                                35.1   \n",
      "2                          C                                31.1   \n",
      "3                          B                                18.5   \n",
      "4                          B                                29.0   \n",
      "\n",
      "  2010-2011 PROGRESS GRADE  2010-2011 ADDITIONAL CREDIT  \\\n",
      "0                       C                           0.5   \n",
      "1                       A                           0.5   \n",
      "2                       B                           2.0   \n",
      "3                       C                           2.5   \n",
      "4                       B                           1.5   \n",
      "\n",
      "  2009-10 PROGRESS REPORT GRADE  \n",
      "0                             C  \n",
      "1                             C  \n",
      "2                             A  \n",
      "3                             B  \n",
      "4                             B  \n"
     ]
    }
   ],
   "source": [
    "print(df1.head())"
   ]
  },
  {
   "cell_type": "code",
   "execution_count": 4,
   "metadata": {},
   "outputs": [
    {
     "name": "stdout",
     "output_type": "stream",
     "text": [
      "      DBN                             SchoolName AP Test Takers   \\\n",
      "0  01M448           UNIVERSITY NEIGHBORHOOD H.S.              39   \n",
      "1  01M450                 EAST SIDE COMMUNITY HS              19   \n",
      "2  01M515                    LOWER EASTSIDE PREP              24   \n",
      "3  01M539         NEW EXPLORATIONS SCI,TECH,MATH             255   \n",
      "4  02M296  High School of Hospitality Management               s   \n",
      "\n",
      "  Total Exams Taken Number of Exams with scores 3 4 or 5  \n",
      "0                49                                   10  \n",
      "1                21                                    s  \n",
      "2                26                                   24  \n",
      "3               377                                  191  \n",
      "4                 s                                    s  \n"
     ]
    }
   ],
   "source": [
    "print(df2.head())"
   ]
  },
  {
   "cell_type": "code",
   "execution_count": 5,
   "metadata": {},
   "outputs": [
    {
     "name": "stdout",
     "output_type": "stream",
     "text": [
      "      DBN                                     School Name  \\\n",
      "0  01M292  Henry Street School for International Studies    \n",
      "1  01M448            University Neighborhood High School    \n",
      "2  01M450                East Side Community High School    \n",
      "3  01M458                   SATELLITE ACADEMY FORSYTH ST    \n",
      "4  01M509                               CMSP HIGH SCHOOL    \n",
      "\n",
      "  Number of Test Takers Critical Reading Mean Mathematics Mean Writing Mean  \n",
      "0                    31                   391              425          385  \n",
      "1                    60                   394              419          387  \n",
      "2                    69                   418              431          402  \n",
      "3                    26                   385              370          378  \n",
      "4                     s                     s                s            s  \n"
     ]
    }
   ],
   "source": [
    "print(df3.head())"
   ]
  },
  {
   "cell_type": "code",
   "execution_count": 6,
   "metadata": {},
   "outputs": [],
   "source": [
    "#Rename columns\n",
    "df1 = df1.rename(columns={'SCHOOL': 'School_Name', '2010-2011 OVERALL GRADE': 'Overall_Grade',  '2009-10 PROGRESS REPORT GRADE' : 'Progress_Grade'})\n",
    "df2 = df2.rename(columns={'SchoolName': 'School_Name'})\n",
    "df3 = df3.rename(columns={'School Name': 'School_Name'})"
   ]
  },
  {
   "cell_type": "code",
   "execution_count": 7,
   "metadata": {},
   "outputs": [],
   "source": [
    "#Replace empty values with NaN\n",
    "df2 = df2.replace('s',np.nan)\n",
    "df3 = df3.replace('s',np.nan)"
   ]
  },
  {
   "cell_type": "code",
   "execution_count": 8,
   "metadata": {},
   "outputs": [],
   "source": [
    "#Drop rows without without any performance data\n",
    "df1 = df1.dropna(thresh = 3)\n",
    "df2 = df2.dropna(thresh = 3)\n",
    "df3 = df3.dropna(thresh = 3)"
   ]
  },
  {
   "cell_type": "code",
   "execution_count": 9,
   "metadata": {},
   "outputs": [],
   "source": [
    "#Recast column datatypes to allow for numerical computation\n",
    "df2['Number of Exams with scores 3 4 or 5'] = df2['Number of Exams with scores 3 4 or 5'].astype(dtype='float64')\n",
    "df2['Total Exams Taken'] = df2['Total Exams Taken'].astype(dtype='float64')\n",
    "\n",
    "df3['Critical Reading Mean'] = df3['Critical Reading Mean'].astype(dtype='float64')\n",
    "df3['Mathematics Mean'] = df3['Mathematics Mean'].astype(dtype='float64')\n",
    "df3['Writing Mean'] = df3['Writing Mean'].astype(dtype='float64')"
   ]
  },
  {
   "cell_type": "code",
   "execution_count": 10,
   "metadata": {},
   "outputs": [],
   "source": [
    "#Create new columns providing statistical evaluation for each school\n",
    "df2['AP_Percentile'] = (df2['Number of Exams with scores 3 4 or 5']/df2['Total Exams Taken']).rank(pct=True)\n",
    "df3['SAT_Percentile'] = (df3['Critical Reading Mean'] + df3['Mathematics Mean'] + df3['Writing Mean']).rank(pct=True)"
   ]
  },
  {
   "cell_type": "code",
   "execution_count": 11,
   "metadata": {},
   "outputs": [],
   "source": [
    "#Remove unnecessary columns\n",
    "df1 = df1[['DBN', 'School_Name', 'Overall_Grade', 'Progress_Grade']]\n",
    "df2 = df2[['DBN', 'School_Name', 'AP_Percentile']]\n",
    "df3 = df3[['DBN', 'School_Name', 'SAT_Percentile']]"
   ]
  },
  {
   "cell_type": "code",
   "execution_count": 12,
   "metadata": {},
   "outputs": [
    {
     "name": "stdout",
     "output_type": "stream",
     "text": [
      "      DBN                     School_Name Overall_Grade Progress_Grade\n",
      "0  01M015       P.S. 015 Roberto Clemente            C               C\n",
      "1  01M019             P.S. 019 Asher Levy            B               C\n",
      "2  01M020            P.S. 020 Anna Silver            B               A\n",
      "3  01M034  P.S. 034 Franklin D. Roosevelt            C               B\n",
      "4  01M063       P.S. 063 William McKinley            B               B\n"
     ]
    }
   ],
   "source": [
    "print(df1.head())"
   ]
  },
  {
   "cell_type": "code",
   "execution_count": 13,
   "metadata": {},
   "outputs": [
    {
     "name": "stdout",
     "output_type": "stream",
     "text": [
      "      DBN                     School_Name  AP_Percentile\n",
      "0  01M448    UNIVERSITY NEIGHBORHOOD H.S.       0.198675\n",
      "1  01M450          EAST SIDE COMMUNITY HS            NaN\n",
      "2  01M515             LOWER EASTSIDE PREP       0.976821\n",
      "3  01M539  NEW EXPLORATIONS SCI,TECH,MATH       0.701987\n",
      "5  02M298                Pace High School            NaN\n"
     ]
    }
   ],
   "source": [
    "print(df2.head())"
   ]
  },
  {
   "cell_type": "code",
   "execution_count": 14,
   "metadata": {},
   "outputs": [
    {
     "name": "stdout",
     "output_type": "stream",
     "text": [
      "      DBN                                     School_Name  SAT_Percentile\n",
      "0  01M292  Henry Street School for International Studies         0.597150\n",
      "1  01M448            University Neighborhood High School         0.591969\n",
      "2  01M450                East Side Community High School         0.727979\n",
      "3  01M458                   SATELLITE ACADEMY FORSYTH ST         0.365285\n",
      "5  01M515        Lower East Side Preparatory High School         0.467617\n"
     ]
    }
   ],
   "source": [
    "print(df3.head())"
   ]
  },
  {
   "cell_type": "code",
   "execution_count": 15,
   "metadata": {},
   "outputs": [],
   "source": [
    "#Open/create database 'schools' and drop dataframes into three tables\n",
    "conn = sqlite3.connect('schools.db')\n",
    "c = conn.cursor()\n",
    "\n",
    "df1.to_sql('Progress_Report', conn, if_exists='replace', index = False)\n",
    "df2.to_sql('AP_Report', conn, if_exists='replace', index = False)\n",
    "df3.to_sql('SAT_Report', conn, if_exists='replace', index = False)"
   ]
  },
  {
   "cell_type": "code",
   "execution_count": 16,
   "metadata": {},
   "outputs": [
    {
     "data": {
      "text/plain": [
       "<sqlite3.Cursor at 0x225a9ac5570>"
      ]
     },
     "execution_count": 16,
     "metadata": {},
     "output_type": "execute_result"
    }
   ],
   "source": [
    "\"\"\"\n",
    "These statements work as so:\n",
    "\n",
    "1.) Block 1 & 2 is a full outer join between AP_Report and SAT_Report that inserts the data into\n",
    "a temporary table to prevent duplicate rows. Although the DBN is the same between AP_Report & SAT_Report,\n",
    "the school_names are sometimes different, which pervents the union from removing the duplicate rows.\n",
    "By making DBN a primary key and inserting the IGNORE statement, the duplicate rows are removed\n",
    "\n",
    "2.) Blocks 3 & 4 is a left join between the temporary table and the Progress_Report. Progress_Report\n",
    "table includes schools other than High school, so we do not want to do a full outer join to include them.\n",
    "Query is then dumped into table Highschools\n",
    "\n",
    "3.) Block 5 Deletes the temporary table and orginal three tables as they are no longer needed\n",
    "\n",
    "\"\"\"\n",
    "\n",
    "c.executescript(\"\"\"\n",
    "\n",
    "CREATE TABLE TMP(\n",
    "DBN text NOT NULL PRIMARY KEY,\n",
    "School_Name text NOT NULL,\n",
    "AP_Percentile real,\n",
    "SAT_percentile real);\n",
    "\n",
    "INSERT or IGNORE INTO TMP\n",
    "SELECT AP_Report.DBN, AP_Report.School_Name, AP_Percentile, SAT_Percentile \n",
    "FROM AP_report LEFT JOIN SAT_report \n",
    "ON AP_Report.DBN = SAT_Report.DBN \n",
    "UNION \n",
    "SELECT SAT_Report.DBN, SAT_Report.School_Name, AP_Percentile, SAT_Percentile \n",
    "FROM SAT_Report LEFT JOIN AP_Report \n",
    "ON AP_Report.DBN = SAT_Report.DBN;\n",
    "\n",
    "CREATE TABLE Highschools(\n",
    "DBN text NOT NULL PRIMARY KEY,\n",
    "School_Name text NOT NULL,\n",
    "Ap_Percentile REAL,\n",
    "Sat_Percentile real,\n",
    "Overall_Grade text,\n",
    "Progress_Grade text);\n",
    "\n",
    "INSERT INTO Highschools\n",
    "SELECT TMP.DBN, TMP.School_Name, TMP.AP_Percentile, TMP.SAT_percentile, Progress_Report.Overall_Grade, Progress_Report.Progress_Grade\n",
    "FROM \n",
    "TMP LEFT JOIN Progress_Report \n",
    "ON TMP.DBN = Progress_Report.DBN;\n",
    "\n",
    "DROP TABLE TMP;\n",
    "DROP TABLE Progress_Report;\n",
    "DROP TABLE SAT_Report;\n",
    "DROP TABLE AP_Report;\n",
    "\"\"\")"
   ]
  },
  {
   "cell_type": "code",
   "execution_count": 17,
   "metadata": {},
   "outputs": [
    {
     "data": {
      "text/plain": [
       "<sqlite3.Cursor at 0x225a9ac5570>"
      ]
     },
     "execution_count": 17,
     "metadata": {},
     "output_type": "execute_result"
    }
   ],
   "source": [
    "#This query selects schools that have AP & SAT percentiles above 80%, or has an overall grade of \"A\", or has a grade \"B\" with a progress grade of \"A\"\n",
    "values = (.80,.80,'A','B','A',)\n",
    "c.execute(\"\"\"\n",
    "\n",
    "SELECT *\n",
    "From Highschools\n",
    "WHERE AP_Percentile > ? AND SAT_Percentile > ? or Overall_Grade = ? or (Overall_Grade = ? and Progress_grade = ?)\n",
    "\"\"\",values)"
   ]
  },
  {
   "cell_type": "code",
   "execution_count": 18,
   "metadata": {},
   "outputs": [
    {
     "name": "stdout",
     "output_type": "stream",
     "text": [
      "('02M408', 'PROFESSIONAL PERFORMING ARTS', 0.9105960264900662, 0.9222797927461139, 'B ', 'A')\n",
      "('02M411', 'BARUCH COLLEGE CAMPUS HS', 0.9205298013245033, 0.9572538860103627, None, None)\n",
      "('02M412', 'NYC LAB HS FOR COLL. STUDIES', 0.847682119205298, 0.9766839378238342, None, None)\n",
      "('02M416', 'ELEANOR ROOSEVELT HIGH SCHOOL ', 0.8874172185430463, 0.9715025906735751, None, None)\n",
      "('02M418', 'Millennium High School', 0.8741721854304636, 0.9507772020725389, None, None)\n",
      "('02M475', 'STUYVESANT HIGH SCHOOL ', 0.9933774834437086, 1.0, None, None)\n",
      "('02M519', 'TALENT UNLIMITED', 0.8145695364238411, 0.8730569948186528, None, None)\n",
      "('02M545', 'Dual Language and Asian Studies High School ', 0.9867549668874173, 0.9196891191709845, None, None)\n",
      "('03M479', 'BEACON SCHOOL', 0.8807947019867549, 0.966321243523316, None, None)\n",
      "('03M485', 'FIORELLO H.LAGUARDIA HS', 0.8278145695364238, 0.9624352331606217, None, None)\n",
      "('04M435', 'MANHATTAN CENTER-SCIENCE&MATH', 0.8013245033112583, 0.9326424870466321, None, None)\n",
      "('05M499', 'FREDERICK DOUGLASS ACADEMY ', 0.8675496688741722, 0.8989637305699482, 'B ', 'C')\n",
      "('10X141', 'MS/HS 141 D A STEIN RIV/KINGSB', 0.8344370860927153, 0.9067357512953368, 'C ', 'D')\n",
      "('10X445', 'BRONX HIGH SCHOOL OF SCIENCE ', 0.9668874172185431, 0.9974093264248705, None, None)\n",
      "('10X696', 'HIGH SCHOOL OF AMERICAN STUDIES At Lehman College', 0.9337748344370861, 0.9896373056994818, None, None)\n",
      "('13K430', 'BROOKLYN TECHNICAL HIGH SCHOOL ', 0.8940397350993378, 0.9818652849740933, None, None)\n",
      "('22K405', 'MIDWOOD HS', 0.8211920529801324, 0.9404145077720207, None, None)\n",
      "('22K535', 'LEON GOLDSTEIN HS SCIENCES', 0.8410596026490066, 0.9624352331606217, None, None)\n",
      "('25Q525', 'TOWNSEND HARRIS HS', 0.9271523178807947, 0.9922279792746114, None, None)\n",
      "('26Q415', 'BENJAMIN CARDOZO HIGH SCHOOL ', 0.8543046357615894, 0.9430051813471503, None, None)\n",
      "('28Q687', 'QUEENS HS FOR SCIENCE YORK COL ', 0.9403973509933775, 0.9870466321243523, None, None)\n",
      "('30Q575', 'ACADEMY OF AMER. STUDIES HS', 0.8609271523178808, 0.9378238341968912, None, None)\n",
      "('31R605', 'STATEN ISLAND TECHNICAL HIGH SCHOOL ', 0.9602649006622517, 0.9948186528497409, None, None)\n"
     ]
    }
   ],
   "source": [
    "#print query\n",
    "x=c.fetchall()\n",
    "for rows in x:\n",
    "\tprint(rows)"
   ]
  },
  {
   "cell_type": "code",
   "execution_count": 19,
   "metadata": {},
   "outputs": [],
   "source": [
    "conn.commit()\n",
    "conn.close()"
   ]
  }
 ],
 "metadata": {
  "kernelspec": {
   "display_name": "Python 3",
   "language": "python",
   "name": "python3"
  },
  "language_info": {
   "codemirror_mode": {
    "name": "ipython",
    "version": 3
   },
   "file_extension": ".py",
   "mimetype": "text/x-python",
   "name": "python",
   "nbconvert_exporter": "python",
   "pygments_lexer": "ipython3",
   "version": "3.6.4"
  }
 },
 "nbformat": 4,
 "nbformat_minor": 2
}
